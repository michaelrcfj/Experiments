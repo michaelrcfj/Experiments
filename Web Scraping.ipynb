{
 "cells": [
  {
   "cell_type": "code",
   "execution_count": 1,
   "id": "23659eef-f8d3-4e1d-821e-6e0365f8afcd",
   "metadata": {
    "tags": []
   },
   "outputs": [],
   "source": [
    "import requests\n",
    "from bs4 import BeautifulSoup\n",
    "import pandas as pd\n",
    "import datetime"
   ]
  },
  {
   "cell_type": "code",
   "execution_count": 22,
   "id": "a56b84e2-5be4-4e6b-974b-17801fc51a88",
   "metadata": {
    "tags": []
   },
   "outputs": [
    {
     "data": {
      "text/html": [
       "<div>\n",
       "<style scoped>\n",
       "    .dataframe tbody tr th:only-of-type {\n",
       "        vertical-align: middle;\n",
       "    }\n",
       "\n",
       "    .dataframe tbody tr th {\n",
       "        vertical-align: top;\n",
       "    }\n",
       "\n",
       "    .dataframe thead th {\n",
       "        text-align: right;\n",
       "    }\n",
       "</style>\n",
       "<table border=\"1\" class=\"dataframe\">\n",
       "  <thead>\n",
       "    <tr style=\"text-align: right;\">\n",
       "      <th></th>\n",
       "      <th>Institution</th>\n",
       "      <th>Date</th>\n",
       "      <th>Time</th>\n",
       "      <th>Rate Type</th>\n",
       "      <th>Rate Label</th>\n",
       "      <th>Rate</th>\n",
       "    </tr>\n",
       "  </thead>\n",
       "  <tbody>\n",
       "  </tbody>\n",
       "</table>\n",
       "</div>"
      ],
      "text/plain": [
       "Empty DataFrame\n",
       "Columns: [Institution, Date, Time, Rate Type, Rate Label, Rate]\n",
       "Index: []"
      ]
     },
     "execution_count": 22,
     "metadata": {},
     "output_type": "execute_result"
    }
   ],
   "source": [
    "price_df= pd.DataFrame(columns=[\"Institution\",\"Date\",\"Time\",\"Rate Type\",\"Rate Label\",\"Rate\"])\n",
    "price_df.head()"
   ]
  },
  {
   "cell_type": "markdown",
   "id": "88556cc4-e989-4bd0-8d06-ee15c64283a1",
   "metadata": {},
   "source": [
    "## CBA Rates"
   ]
  },
  {
   "cell_type": "code",
   "execution_count": 23,
   "id": "06447bcd-8ac3-4a6b-9be8-fb3e20b3bef8",
   "metadata": {
    "tags": []
   },
   "outputs": [
    {
     "data": {
      "text/html": [
       "<div>\n",
       "<style scoped>\n",
       "    .dataframe tbody tr th:only-of-type {\n",
       "        vertical-align: middle;\n",
       "    }\n",
       "\n",
       "    .dataframe tbody tr th {\n",
       "        vertical-align: top;\n",
       "    }\n",
       "\n",
       "    .dataframe thead th {\n",
       "        text-align: right;\n",
       "    }\n",
       "</style>\n",
       "<table border=\"1\" class=\"dataframe\">\n",
       "  <thead>\n",
       "    <tr style=\"text-align: right;\">\n",
       "      <th></th>\n",
       "      <th>Institution</th>\n",
       "      <th>Date</th>\n",
       "      <th>Time</th>\n",
       "      <th>Rate Type</th>\n",
       "      <th>Rate Label</th>\n",
       "      <th>Rate</th>\n",
       "    </tr>\n",
       "  </thead>\n",
       "  <tbody>\n",
       "    <tr>\n",
       "      <th>0</th>\n",
       "      <td>CBA</td>\n",
       "      <td>2023-07-16</td>\n",
       "      <td>15:54:30</td>\n",
       "      <td>Variable</td>\n",
       "      <td>Interest rate</td>\n",
       "      <td>6.24</td>\n",
       "    </tr>\n",
       "    <tr>\n",
       "      <th>1</th>\n",
       "      <td>CBA</td>\n",
       "      <td>2023-07-16</td>\n",
       "      <td>15:54:30</td>\n",
       "      <td>Variable</td>\n",
       "      <td>Comparison rate</td>\n",
       "      <td>6.62</td>\n",
       "    </tr>\n",
       "  </tbody>\n",
       "</table>\n",
       "</div>"
      ],
      "text/plain": [
       "  Institution        Date      Time Rate Type       Rate Label  Rate\n",
       "0         CBA  2023-07-16  15:54:30  Variable    Interest rate  6.24\n",
       "1         CBA  2023-07-16  15:54:30  Variable  Comparison rate  6.62"
      ]
     },
     "execution_count": 23,
     "metadata": {},
     "output_type": "execute_result"
    }
   ],
   "source": [
    "# URL Call\n",
    "url = \"https://www.commbank.com.au/home-loans/standard-variable-rate.html\"\n",
    "response = requests.get(url)\n",
    "\n",
    "# Create a BeautifulSoup object from the response content\n",
    "page = BeautifulSoup(response.content, \"html.parser\")\n",
    "\n",
    "# Find the HTML elements that contain the pricing details\n",
    "temp_scrape = page.find_all(\"div\", class_=\"blurb\")\n",
    "\n",
    "# Iterate over the pricing elements and extract the details\n",
    "for rate_types in temp_scrape:\n",
    "    \n",
    "    rate_label = rate_types.text.strip().replace(\"*\", \"\")\n",
    "    rate_val = rate_types.find_previous(\"span\",class_=\"number\").text.strip()\n",
    "       \n",
    "    # Create a new DataFrame with the text to append\n",
    "    temp_df = pd.DataFrame({\"Rate Type\": \"Variable\", \n",
    "                            \"Rate Label\":[rate_label],\n",
    "                            \"Institution\":'CBA',\n",
    "                            \"Date\":datetime.date.today(),\n",
    "                            \"Time\":datetime.datetime.now().strftime(\"%H:%M:%S\"),\n",
    "                            \"Rate\":rate_val})\n",
    "    \n",
    "    # Concatenate the new DataFrame with the existing DataFrame\n",
    "    price_df = pd.concat([price_df, temp_df], ignore_index=True)    \n",
    "    \n",
    "price_df.head()"
   ]
  },
  {
   "cell_type": "markdown",
   "id": "98751e18-3113-4553-a2f6-b45430e987ad",
   "metadata": {},
   "source": [
    "## Macquarie Rates"
   ]
  },
  {
   "cell_type": "code",
   "execution_count": 24,
   "id": "38e16dcb-a18f-446b-a139-351b8b2ca813",
   "metadata": {
    "tags": []
   },
   "outputs": [
    {
     "data": {
      "text/html": [
       "<div>\n",
       "<style scoped>\n",
       "    .dataframe tbody tr th:only-of-type {\n",
       "        vertical-align: middle;\n",
       "    }\n",
       "\n",
       "    .dataframe tbody tr th {\n",
       "        vertical-align: top;\n",
       "    }\n",
       "\n",
       "    .dataframe thead th {\n",
       "        text-align: right;\n",
       "    }\n",
       "</style>\n",
       "<table border=\"1\" class=\"dataframe\">\n",
       "  <thead>\n",
       "    <tr style=\"text-align: right;\">\n",
       "      <th></th>\n",
       "      <th>Institution</th>\n",
       "      <th>Date</th>\n",
       "      <th>Time</th>\n",
       "      <th>Rate Type</th>\n",
       "      <th>Rate Label</th>\n",
       "      <th>Rate</th>\n",
       "    </tr>\n",
       "  </thead>\n",
       "  <tbody>\n",
       "    <tr>\n",
       "      <th>0</th>\n",
       "      <td>CBA</td>\n",
       "      <td>2023-07-16</td>\n",
       "      <td>15:54:30</td>\n",
       "      <td>Variable</td>\n",
       "      <td>Interest rate</td>\n",
       "      <td>6.24</td>\n",
       "    </tr>\n",
       "    <tr>\n",
       "      <th>1</th>\n",
       "      <td>CBA</td>\n",
       "      <td>2023-07-16</td>\n",
       "      <td>15:54:30</td>\n",
       "      <td>Variable</td>\n",
       "      <td>Comparison rate</td>\n",
       "      <td>6.62</td>\n",
       "    </tr>\n",
       "    <tr>\n",
       "      <th>2</th>\n",
       "      <td>Macquarie</td>\n",
       "      <td>2023-07-16</td>\n",
       "      <td>15:54:33</td>\n",
       "      <td>Variable</td>\n",
       "      <td>Interest rate</td>\n",
       "      <td>5.79</td>\n",
       "    </tr>\n",
       "    <tr>\n",
       "      <th>3</th>\n",
       "      <td>Macquarie</td>\n",
       "      <td>2023-07-16</td>\n",
       "      <td>15:54:33</td>\n",
       "      <td>Variable</td>\n",
       "      <td>Comparison rate</td>\n",
       "      <td>5.81</td>\n",
       "    </tr>\n",
       "  </tbody>\n",
       "</table>\n",
       "</div>"
      ],
      "text/plain": [
       "  Institution        Date      Time Rate Type       Rate Label  Rate\n",
       "0         CBA  2023-07-16  15:54:30  Variable    Interest rate  6.24\n",
       "1         CBA  2023-07-16  15:54:30  Variable  Comparison rate  6.62\n",
       "2   Macquarie  2023-07-16  15:54:33  Variable    Interest rate  5.79\n",
       "3   Macquarie  2023-07-16  15:54:33  Variable  Comparison rate  5.81"
      ]
     },
     "execution_count": 24,
     "metadata": {},
     "output_type": "execute_result"
    }
   ],
   "source": [
    "# URL Call\n",
    "url = \"https://www.macquarie.com.au/home-loans/variable-home-loans.html\"\n",
    "response = requests.get(url)\n",
    "\n",
    "# Create a BeautifulSoup object from the response content\n",
    "page = BeautifulSoup(response.content, \"html.parser\")\n",
    "\n",
    "# Find the HTML elements that contain the pricing details\n",
    "temp_scrape = page.find_all(\"div\", class_=\"rates-strip__big-number\")\n",
    "\n",
    "# Iterate over the pricing elements and extract the details\n",
    "for rate_types in temp_scrape:\n",
    "        \n",
    "    rate_val = rate_types.text.strip()\n",
    "    rate_label = rate_types.find_next(\"div\",class_=\"rates-strip__description\").text.strip().replace(\"‡\", \"\")\n",
    "           \n",
    "    # Create a new DataFrame with the text to append\n",
    "    temp_df = pd.DataFrame({\"Rate Type\": \"Variable\", \n",
    "                            \"Rate Label\":[rate_label],\n",
    "                            \"Institution\":'Macquarie',\n",
    "                            \"Date\":datetime.date.today(),\n",
    "                            \"Time\":datetime.datetime.now().strftime(\"%H:%M:%S\"),\n",
    "                            \"Rate\":rate_val})\n",
    "    \n",
    "    \n",
    "    # Concatenate the new DataFrame with the existing DataFrame\n",
    "    price_df = pd.concat([price_df, temp_df], ignore_index=True)    \n",
    "    \n",
    "price_df.head()"
   ]
  },
  {
   "cell_type": "markdown",
   "id": "c49fa916-8ab2-4372-b8da-2a46c4dbee5c",
   "metadata": {},
   "source": [
    "## Westpac Rates"
   ]
  },
  {
   "cell_type": "code",
   "execution_count": 25,
   "id": "3480b966-c60c-4381-a13a-9af1fdd64fd8",
   "metadata": {
    "tags": []
   },
   "outputs": [
    {
     "data": {
      "text/html": [
       "<div>\n",
       "<style scoped>\n",
       "    .dataframe tbody tr th:only-of-type {\n",
       "        vertical-align: middle;\n",
       "    }\n",
       "\n",
       "    .dataframe tbody tr th {\n",
       "        vertical-align: top;\n",
       "    }\n",
       "\n",
       "    .dataframe thead th {\n",
       "        text-align: right;\n",
       "    }\n",
       "</style>\n",
       "<table border=\"1\" class=\"dataframe\">\n",
       "  <thead>\n",
       "    <tr style=\"text-align: right;\">\n",
       "      <th></th>\n",
       "      <th>Institution</th>\n",
       "      <th>Date</th>\n",
       "      <th>Time</th>\n",
       "      <th>Rate Type</th>\n",
       "      <th>Rate Label</th>\n",
       "      <th>Rate</th>\n",
       "    </tr>\n",
       "  </thead>\n",
       "  <tbody>\n",
       "    <tr>\n",
       "      <th>0</th>\n",
       "      <td>CBA</td>\n",
       "      <td>2023-07-16</td>\n",
       "      <td>15:54:30</td>\n",
       "      <td>Variable</td>\n",
       "      <td>Interest rate</td>\n",
       "      <td>6.24</td>\n",
       "    </tr>\n",
       "    <tr>\n",
       "      <th>1</th>\n",
       "      <td>CBA</td>\n",
       "      <td>2023-07-16</td>\n",
       "      <td>15:54:30</td>\n",
       "      <td>Variable</td>\n",
       "      <td>Comparison rate</td>\n",
       "      <td>6.62</td>\n",
       "    </tr>\n",
       "    <tr>\n",
       "      <th>2</th>\n",
       "      <td>Macquarie</td>\n",
       "      <td>2023-07-16</td>\n",
       "      <td>15:54:33</td>\n",
       "      <td>Variable</td>\n",
       "      <td>Interest rate</td>\n",
       "      <td>5.79</td>\n",
       "    </tr>\n",
       "    <tr>\n",
       "      <th>3</th>\n",
       "      <td>Macquarie</td>\n",
       "      <td>2023-07-16</td>\n",
       "      <td>15:54:33</td>\n",
       "      <td>Variable</td>\n",
       "      <td>Comparison rate</td>\n",
       "      <td>5.81</td>\n",
       "    </tr>\n",
       "    <tr>\n",
       "      <th>4</th>\n",
       "      <td>Westpac</td>\n",
       "      <td>2023-07-16</td>\n",
       "      <td>15:54:38</td>\n",
       "      <td>Variable</td>\n",
       "      <td>2-yr intro discount on variable rate</td>\n",
       "      <td>5.99</td>\n",
       "    </tr>\n",
       "  </tbody>\n",
       "</table>\n",
       "</div>"
      ],
      "text/plain": [
       "  Institution        Date      Time Rate Type  \\\n",
       "0         CBA  2023-07-16  15:54:30  Variable   \n",
       "1         CBA  2023-07-16  15:54:30  Variable   \n",
       "2   Macquarie  2023-07-16  15:54:33  Variable   \n",
       "3   Macquarie  2023-07-16  15:54:33  Variable   \n",
       "4     Westpac  2023-07-16  15:54:38  Variable   \n",
       "\n",
       "                             Rate Label   Rate  \n",
       "0                         Interest rate   6.24  \n",
       "1                       Comparison rate   6.62  \n",
       "2                         Interest rate   5.79  \n",
       "3                       Comparison rate   5.81  \n",
       "4  2-yr intro discount on variable rate  5.99   "
      ]
     },
     "execution_count": 25,
     "metadata": {},
     "output_type": "execute_result"
    }
   ],
   "source": [
    "# URL Call\n",
    "url = \"https://www.westpac.com.au/personal-banking/home-loans/variable/\"\n",
    "response = requests.get(url)\n",
    "\n",
    "# Create a BeautifulSoup object from the response content\n",
    "page = BeautifulSoup(response.content, \"html.parser\")\n",
    "\n",
    "# Find the HTML elements that contain the pricing details\n",
    "temp_scrape = page.find_all(\"td\", class_=\"col-sm-5\")\n",
    "\n",
    "# Iterate over the pricing elements and extract the details\n",
    "for rate_types in temp_scrape:\n",
    "    rate_string=rate_types.text.strip()\n",
    "    \n",
    "    rate_val = rate_string.split('p.a.')[0].replace(\"%\",\"\")\n",
    "    rate_label = rate_string.split('p.a.')[1].strip().replace(\"^\", \"\").replace(\"*\", \"\")\n",
    "               \n",
    "    # Create a new DataFrame with the text to append\n",
    "    temp_df = pd.DataFrame({\"Rate Type\": \"Variable\", \n",
    "                            \"Rate Label\":[rate_label],\n",
    "                            \"Institution\":'Westpac',\n",
    "                            \"Date\":datetime.date.today(),\n",
    "                            \"Time\":datetime.datetime.now().strftime(\"%H:%M:%S\"),\n",
    "                            \"Rate\":rate_val})\n",
    "    \n",
    "    \n",
    "    # Concatenate the new DataFrame with the existing DataFrame\n",
    "    price_df = pd.concat([price_df, temp_df], ignore_index=True)    \n",
    "    \n",
    "price_df.head(10)"
   ]
  },
  {
   "cell_type": "markdown",
   "id": "cb206b7f-e07f-4563-b1d0-3f28b6047add",
   "metadata": {},
   "source": [
    "## ANZ Rates"
   ]
  },
  {
   "cell_type": "code",
   "execution_count": null,
   "id": "2fdcadea-e9ac-41b4-a8da-a51bf1f47f7c",
   "metadata": {},
   "outputs": [],
   "source": []
  }
 ],
 "metadata": {
  "kernelspec": {
   "display_name": "Python 3 (ipykernel)",
   "language": "python",
   "name": "python3"
  },
  "language_info": {
   "codemirror_mode": {
    "name": "ipython",
    "version": 3
   },
   "file_extension": ".py",
   "mimetype": "text/x-python",
   "name": "python",
   "nbconvert_exporter": "python",
   "pygments_lexer": "ipython3",
   "version": "3.10.12"
  }
 },
 "nbformat": 4,
 "nbformat_minor": 5
}
